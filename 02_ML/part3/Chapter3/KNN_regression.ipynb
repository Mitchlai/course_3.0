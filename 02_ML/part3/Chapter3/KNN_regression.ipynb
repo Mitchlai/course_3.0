{
  "cells": [
    {
      "cell_type": "markdown",
      "metadata": {
        "id": "view-in-github",
        "colab_type": "text"
      },
      "source": [
        "<a href=\"https://colab.research.google.com/github/Mitchlai/course_3.0/blob/main/02_ML/part3/Chapter3/KNN_regression.ipynb\" target=\"_parent\"><img src=\"https://colab.research.google.com/assets/colab-badge.svg\" alt=\"Open In Colab\"/></a>"
      ]
    },
    {
      "cell_type": "code",
      "execution_count": null,
      "metadata": {
        "id": "l-o4NKrapnp-"
      },
      "outputs": [],
      "source": [
        "import numpy as np\n",
        "import pandas as pd\n",
        "\n",
        "#from sklearn.datasets import load_boston\n",
        "from sklearn.model_selection import train_test_split\n",
        "from sklearn import metrics\n",
        "from sklearn import preprocessing\n",
        "from sklearn.neighbors import KNeighborsRegressor"
      ]
    },
    {
      "cell_type": "code",
      "execution_count": null,
      "metadata": {
        "id": "OpXxDIwUpnqB"
      },
      "outputs": [],
      "source": [
        "# load digits data\n",
        "data_url = \"http://lib.stat.cmu.edu/datasets/boston\"\n",
        "raw_df = pd.read_csv(data_url, sep=\"\\s+\", skiprows=22, header=None)\n",
        "data = np.hstack([raw_df.values[::2, :], raw_df.values[1::2, :2]])\n",
        "target = raw_df.values[1::2, 2]\n",
        "\n",
        "boston_X = data\n",
        "boston_y = target"
      ]
    },
    {
      "cell_type": "code",
      "execution_count": null,
      "metadata": {
        "id": "9IVy_NEtpnqB"
      },
      "outputs": [],
      "source": [
        "boston_X = preprocessing.scale(boston_X, axis=0)"
      ]
    },
    {
      "cell_type": "code",
      "execution_count": null,
      "metadata": {
        "id": "a3T5Tn0TpnqC"
      },
      "outputs": [],
      "source": [
        "# split training data\n",
        "train_X, val_X, train_y, val_y = train_test_split(boston_X,\n",
        "                                                  boston_y,\n",
        "                                                  test_size=0.2,\n",
        "                                                  random_state=5566)"
      ]
    },
    {
      "cell_type": "code",
      "execution_count": null,
      "metadata": {
        "id": "V8eHWrPSpnqC"
      },
      "outputs": [],
      "source": [
        "# create KNN model\n",
        "model = KNeighborsRegressor(n_neighbors=3)\n",
        "\n",
        "# Train the model using the training sets\n",
        "model.fit(train_X, train_y)\n",
        "\n",
        "# Predict Output\n",
        "predicted = model.predict(val_X)"
      ]
    },
    {
      "cell_type": "code",
      "execution_count": null,
      "metadata": {
        "colab": {
          "base_uri": "https://localhost:8080/"
        },
        "id": "BkzHw8P1pnqD",
        "outputId": "e81b8a03-e331-4a9b-e4a8-5d6883d1b3c4"
      },
      "outputs": [
        {
          "output_type": "stream",
          "name": "stdout",
          "text": [
            "r2 score:  0.7845053625839071\n"
          ]
        }
      ],
      "source": [
        "# r2 score\n",
        "r2 = metrics.r2_score(y_true=val_y, y_pred=predicted)\n",
        "print('r2 score: ', r2)"
      ]
    },
    {
      "cell_type": "code",
      "execution_count": null,
      "metadata": {
        "colab": {
          "base_uri": "https://localhost:8080/"
        },
        "id": "BX7IPOU8pnqD",
        "outputId": "df516116-e659-4bd8-ad53-fc8972c916cc"
      },
      "outputs": [
        {
          "output_type": "stream",
          "name": "stdout",
          "text": [
            "mse score:  17.71159041394336\n"
          ]
        }
      ],
      "source": [
        "# mse\n",
        "mse = metrics.mean_squared_error(y_true=val_y, y_pred=predicted)\n",
        "print('mse score: ', mse)"
      ]
    }
  ],
  "metadata": {
    "kernelspec": {
      "display_name": "Python 3 (ipykernel)",
      "language": "python",
      "name": "python3"
    },
    "language_info": {
      "codemirror_mode": {
        "name": "ipython",
        "version": 3
      },
      "file_extension": ".py",
      "mimetype": "text/x-python",
      "name": "python",
      "nbconvert_exporter": "python",
      "pygments_lexer": "ipython3",
      "version": "3.10.2"
    },
    "toc": {
      "base_numbering": 1,
      "nav_menu": {},
      "number_sections": true,
      "sideBar": true,
      "skip_h1_title": false,
      "title_cell": "Table of Contents",
      "title_sidebar": "Contents",
      "toc_cell": false,
      "toc_position": {},
      "toc_section_display": true,
      "toc_window_display": false
    },
    "colab": {
      "provenance": [],
      "include_colab_link": true
    }
  },
  "nbformat": 4,
  "nbformat_minor": 0
}